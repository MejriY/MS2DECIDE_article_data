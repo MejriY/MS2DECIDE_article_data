{
 "cells": [
  {
   "cell_type": "code",
   "execution_count": 1,
   "id": "bca60196",
   "metadata": {},
   "outputs": [
    {
     "data": {
      "text/plain": [
       "'/home/olivier/Local/Nextcloud LAMSADE/Recherche/AMCD/Chimie/MS2DECIDE/Data/Extractor'"
      ]
     },
     "execution_count": 1,
     "metadata": {},
     "output_type": "execute_result"
    }
   ],
   "source": [
    "import os\n",
    "import pandas as pd\n",
    "import json\n",
    "import matchms\n",
    "from pathlib import Path\n",
    "import py4cytoscape as p4c\n",
    "from zipfile import ZipFile\n",
    "import io\n",
    "import fs\n",
    "from IPython.display import SVG, display\n",
    "from extractor.network import Network\n",
    "from extractor.compounds import Compounds\n",
    "from extractor.pleiocarpa.datadirs import *\n",
    "os.chdir(\"../\")\n",
    "os.getcwd()\n"
   ]
  },
  {
   "cell_type": "code",
   "execution_count": 2,
   "id": "8f66064a",
   "metadata": {},
   "outputs": [
    {
     "name": "stdout",
     "output_type": "stream",
     "text": [
      "You are connected to Cytoscape!\n",
      "Opening /home/olivier/Local/Nextcloud LAMSADE/Recherche/AMCD/Chimie/MS2DECIDE/Data/Pleiocarpa case/8 - Cytoscape/network_k.cys...\n"
     ]
    }
   ],
   "source": [
    "p4c.set_summary_logger(False)\n",
    "p4c.cytoscape_ping()\n",
    "compounds = Compounds.from_tsv(GENERATED_DIR_TABLES / \"Compounds joined.tsv\").df\n",
    "net = Network(INPUT_DIR_CYTOSCAPE / \"network_k.cys\", compounds)\n",
    "cdf = net.cytoscape_df()\n",
    "# pd.set_option('display.max_rows', None)\n",
    "# pd.set_option('display.max_columns', None)\n",
    "cdf.loc[:, ['name',\n",
    "       'ranking by k']]\n",
    "net.export()\n"
   ]
  },
  {
   "cell_type": "code",
   "execution_count": 3,
   "id": "e09379b3",
   "metadata": {},
   "outputs": [
    {
     "data": {
      "text/plain": [
       "Index(['name', 'sum(precursor intensity)', 'Analog:IonMode', 'Analog:Adduct',\n",
       "       'Compound_Name', 'G5', 'precursor mass', 'SpectrumID', 'charge',\n",
       "       'Analog:PI', 'Analog:IIN Best Ion=Library Adduct', 'Smiles',\n",
       "       'neutral M mass', 'SharedPeaks', 'Ion_Source', 'DefaultGroups',\n",
       "       'Analog:MQScore', 'IIN Best Ion=Library Adduct', 'IonMode',\n",
       "       'GNPSLibraryURL', 'Analog:SpectrumID', 'componentindex',\n",
       "       'Library_Class', 'MassDiff', 'UniqueFileSources',\n",
       "       'Correlated Features Group ID', 'Analog:Library_Class', 'AllGroups',\n",
       "       'Analog:Smiles', 'RTMean', 'Analog:Compound_Source', 'G2',\n",
       "       'Analog:Instrument', 'Analog:INCHI', 'G4', 'number of spectra',\n",
       "       'Analog:SharedPeaks', 'Adduct', 'Analog:MassDiff', 'Data_Collector',\n",
       "       'G3', 'MZErrorPPM', 'MQScore', 'Analog:Compound_Name',\n",
       "       'GNPSLinkout_Cluster', 'Analog:Ion_Source', 'PI', 'Compound_Source',\n",
       "       'INCHI', 'Analog:Data_Collector', 'tags', 'Analog:MZErrorPPM',\n",
       "       'Analog:tags', 'NODE_TYPE', 'Instrument', 'Analog:GNPSLibraryURL',\n",
       "       'RTConsensus', 'cluster index', 'GNPSLinkout_Network', 'G6', 'Best Ion',\n",
       "       'Annotated Adduct Features ID', 'inchi_gnps', 'score_gnps',\n",
       "       'inchi_sirius', 'score_sirius', 'inchi_isdb', 'score_isdb', 'tgs',\n",
       "       'tgi', 'tsi', 'K', 'known', 'ranking by k'],\n",
       "      dtype='object')"
      ]
     },
     "execution_count": 3,
     "metadata": {},
     "output_type": "execute_result"
    }
   ],
   "source": [
    "cdf.columns\n"
   ]
  },
  {
   "cell_type": "code",
   "execution_count": 4,
   "id": "fab300a4",
   "metadata": {},
   "outputs": [
    {
     "name": "stderr",
     "output_type": "stream",
     "text": [
      "In commands_post(): /home/olivier/Local/Nextcloud LAMSADE/Recherche/AMCD/Chimie/Local/All.pdf (Aucun fichier ou dossier de ce type)\n"
     ]
    },
    {
     "ename": "CyError",
     "evalue": "In commands_post(): /home/olivier/Local/Nextcloud LAMSADE/Recherche/AMCD/Chimie/Local/All.pdf (Aucun fichier ou dossier de ce type)",
     "output_type": "error",
     "traceback": [
      "\u001b[0;31m---------------------------------------------------------------------------\u001b[0m",
      "\u001b[0;31mHTTPError\u001b[0m                                 Traceback (most recent call last)",
      "File \u001b[0;32m~/Local/Nextcloud LAMSADE/Recherche/AMCD/Chimie/MS2DECIDE/Data/Extractor/.direnv/extractor/lib/python3.11/site-packages/py4cytoscape/commands.py:391\u001b[0m, in \u001b[0;36mcommands_post\u001b[0;34m(cmd, base_url)\u001b[0m\n\u001b[1;32m    390\u001b[0m r \u001b[38;5;241m=\u001b[39m _do_request(\u001b[38;5;124m'\u001b[39m\u001b[38;5;124mPOST\u001b[39m\u001b[38;5;124m'\u001b[39m, post_url, json\u001b[38;5;241m=\u001b[39mpost_body, headers\u001b[38;5;241m=\u001b[39mheaders, base_url\u001b[38;5;241m=\u001b[39mbase_url)\n\u001b[0;32m--> 391\u001b[0m \u001b[43mr\u001b[49m\u001b[38;5;241;43m.\u001b[39;49m\u001b[43mraise_for_status\u001b[49m\u001b[43m(\u001b[49m\u001b[43m)\u001b[49m\n\u001b[1;32m    392\u001b[0m res \u001b[38;5;241m=\u001b[39m json\u001b[38;5;241m.\u001b[39mloads(r\u001b[38;5;241m.\u001b[39mtext)\n",
      "File \u001b[0;32m~/Local/Nextcloud LAMSADE/Recherche/AMCD/Chimie/MS2DECIDE/Data/Extractor/.direnv/extractor/lib/python3.11/site-packages/requests/models.py:1024\u001b[0m, in \u001b[0;36mResponse.raise_for_status\u001b[0;34m(self)\u001b[0m\n\u001b[1;32m   1023\u001b[0m \u001b[38;5;28;01mif\u001b[39;00m http_error_msg:\n\u001b[0;32m-> 1024\u001b[0m     \u001b[38;5;28;01mraise\u001b[39;00m HTTPError(http_error_msg, response\u001b[38;5;241m=\u001b[39m\u001b[38;5;28mself\u001b[39m)\n",
      "\u001b[0;31mHTTPError\u001b[0m: 500 Server Error: Internal Server Error for url: http://127.0.0.1:1234/v1/commands/view/export%20pdf",
      "\nDuring handling of the above exception, another exception occurred:\n",
      "\u001b[0;31mCyError\u001b[0m                                   Traceback (most recent call last)",
      "Cell \u001b[0;32mIn[4], line 4\u001b[0m\n\u001b[1;32m      2\u001b[0m \u001b[38;5;28mdir\u001b[39m \u001b[38;5;241m=\u001b[39m \u001b[38;5;124m\"\u001b[39m\u001b[38;5;124m../../../Local/\u001b[39m\u001b[38;5;124m\"\u001b[39m\n\u001b[1;32m      3\u001b[0m allsvg \u001b[38;5;241m=\u001b[39m \u001b[38;5;28mdir\u001b[39m\u001b[38;5;241m+\u001b[39m\u001b[38;5;124m\"\u001b[39m\u001b[38;5;124mAll.pdf\u001b[39m\u001b[38;5;124m\"\u001b[39m\n\u001b[0;32m----> 4\u001b[0m \u001b[43mp4c\u001b[49m\u001b[38;5;241;43m.\u001b[39;49m\u001b[43mexport_image\u001b[49m\u001b[43m(\u001b[49m\u001b[43mfilename\u001b[49m\u001b[38;5;241;43m=\u001b[39;49m\u001b[43mallsvg\u001b[49m\u001b[43m,\u001b[49m\u001b[43m \u001b[49m\u001b[38;5;28;43mtype\u001b[39;49m\u001b[38;5;241;43m=\u001b[39;49m\u001b[38;5;124;43m\"\u001b[39;49m\u001b[38;5;124;43mPDF\u001b[39;49m\u001b[38;5;124;43m\"\u001b[39;49m\u001b[43m,\u001b[49m\u001b[43m \u001b[49m\u001b[43moverwrite_file\u001b[49m\u001b[38;5;241;43m=\u001b[39;49m\u001b[38;5;28;43;01mTrue\u001b[39;49;00m\u001b[43m)\u001b[49m\n\u001b[1;32m      5\u001b[0m \u001b[38;5;66;03m# display(SVG(filename=allsvg))\u001b[39;00m\n",
      "File \u001b[0;32m~/Local/Nextcloud LAMSADE/Recherche/AMCD/Chimie/MS2DECIDE/Data/Extractor/.direnv/extractor/lib/python3.11/site-packages/py4cytoscape/py4cytoscape_logger.py:133\u001b[0m, in \u001b[0;36mcy_log.<locals>.wrapper_log\u001b[0;34m(*args, **kwargs)\u001b[0m\n\u001b[1;32m    131\u001b[0m     \u001b[38;5;28;01mreturn\u001b[39;00m log_return(func, value)\n\u001b[1;32m    132\u001b[0m \u001b[38;5;28;01mexcept\u001b[39;00m \u001b[38;5;167;01mException\u001b[39;00m \u001b[38;5;28;01mas\u001b[39;00m e:\n\u001b[0;32m--> 133\u001b[0m     \u001b[43mlog_exception\u001b[49m\u001b[43m(\u001b[49m\u001b[43mfunc\u001b[49m\u001b[43m,\u001b[49m\u001b[43m \u001b[49m\u001b[43me\u001b[49m\u001b[43m)\u001b[49m\n\u001b[1;32m    134\u001b[0m \u001b[38;5;28;01mfinally\u001b[39;00m:\n\u001b[1;32m    135\u001b[0m     log_finally()\n",
      "File \u001b[0;32m~/Local/Nextcloud LAMSADE/Recherche/AMCD/Chimie/MS2DECIDE/Data/Extractor/.direnv/extractor/lib/python3.11/site-packages/py4cytoscape/py4cytoscape_logger.py:130\u001b[0m, in \u001b[0;36mcy_log.<locals>.wrapper_log\u001b[0;34m(*args, **kwargs)\u001b[0m\n\u001b[1;32m    128\u001b[0m log_incoming(func, \u001b[38;5;241m*\u001b[39margs, \u001b[38;5;241m*\u001b[39m\u001b[38;5;241m*\u001b[39mkwargs)\n\u001b[1;32m    129\u001b[0m \u001b[38;5;28;01mtry\u001b[39;00m:\n\u001b[0;32m--> 130\u001b[0m     value \u001b[38;5;241m=\u001b[39m \u001b[43mfunc\u001b[49m\u001b[43m(\u001b[49m\u001b[38;5;241;43m*\u001b[39;49m\u001b[43margs\u001b[49m\u001b[43m,\u001b[49m\u001b[43m \u001b[49m\u001b[38;5;241;43m*\u001b[39;49m\u001b[38;5;241;43m*\u001b[39;49m\u001b[43mkwargs\u001b[49m\u001b[43m)\u001b[49m \u001b[38;5;66;03m# Call function being logged\u001b[39;00m\n\u001b[1;32m    131\u001b[0m     \u001b[38;5;28;01mreturn\u001b[39;00m log_return(func, value)\n\u001b[1;32m    132\u001b[0m \u001b[38;5;28;01mexcept\u001b[39;00m \u001b[38;5;167;01mException\u001b[39;00m \u001b[38;5;28;01mas\u001b[39;00m e:\n",
      "File \u001b[0;32m~/Local/Nextcloud LAMSADE/Recherche/AMCD/Chimie/MS2DECIDE/Data/Extractor/.direnv/extractor/lib/python3.11/site-packages/py4cytoscape/network_views.py:436\u001b[0m, in \u001b[0;36mexport_image\u001b[0;34m(filename, type, resolution, units, height, width, zoom, network, base_url, overwrite_file, force_pre_3_10, all_graphics_details, hide_labels, transparent_background, export_text_as_font, orientation, page_size)\u001b[0m\n\u001b[1;32m    433\u001b[0m     \u001b[38;5;28;01mif\u001b[39;00m width \u001b[38;5;129;01mis\u001b[39;00m \u001b[38;5;129;01mnot\u001b[39;00m \u001b[38;5;28;01mNone\u001b[39;00m: cmd_string \u001b[38;5;241m+\u001b[39m\u001b[38;5;241m=\u001b[39m \u001b[38;5;124m'\u001b[39m\u001b[38;5;124m Width=\u001b[39m\u001b[38;5;124m\"\u001b[39m\u001b[38;5;124m'\u001b[39m \u001b[38;5;241m+\u001b[39m \u001b[38;5;28mstr\u001b[39m(width) \u001b[38;5;241m+\u001b[39m \u001b[38;5;124m'\u001b[39m\u001b[38;5;124m\"\u001b[39m\u001b[38;5;124m'\u001b[39m\n\u001b[1;32m    435\u001b[0m \u001b[38;5;66;03m# Call the actual Cytoscape export image function\u001b[39;00m\n\u001b[0;32m--> 436\u001b[0m res \u001b[38;5;241m=\u001b[39m \u001b[43mcommands\u001b[49m\u001b[38;5;241;43m.\u001b[39;49m\u001b[43mcommands_post\u001b[49m\u001b[43m(\u001b[49m\u001b[38;5;124;43mf\u001b[39;49m\u001b[38;5;124;43m'\u001b[39;49m\u001b[38;5;132;43;01m{\u001b[39;49;00m\u001b[43mcmd_string\u001b[49m\u001b[38;5;132;43;01m}\u001b[39;49;00m\u001b[38;5;124;43m Zoom=\u001b[39;49m\u001b[38;5;124;43m\"\u001b[39;49m\u001b[38;5;132;43;01m{\u001b[39;49;00m\u001b[43mzoom\u001b[49m\u001b[38;5;132;43;01m}\u001b[39;49;00m\u001b[38;5;124;43m\"\u001b[39;49m\u001b[38;5;124;43m outputFile=\u001b[39;49m\u001b[38;5;124;43m\"\u001b[39;49m\u001b[38;5;132;43;01m{\u001b[39;49;00m\u001b[43mfull_filename\u001b[49m\u001b[38;5;132;43;01m}\u001b[39;49;00m\u001b[38;5;124;43m\"\u001b[39;49m\u001b[38;5;124;43m view=\u001b[39;49m\u001b[38;5;124;43m\"\u001b[39;49m\u001b[38;5;124;43mSUID:\u001b[39;49m\u001b[38;5;132;43;01m{\u001b[39;49;00m\u001b[43mview_SUID\u001b[49m\u001b[38;5;132;43;01m}\u001b[39;49;00m\u001b[38;5;124;43m\"\u001b[39;49m\u001b[38;5;124;43m'\u001b[39;49m\u001b[43m,\u001b[49m\n\u001b[1;32m    437\u001b[0m \u001b[43m                             \u001b[49m\u001b[43mbase_url\u001b[49m\u001b[38;5;241;43m=\u001b[39;49m\u001b[43mbase_url\u001b[49m\u001b[43m)\u001b[49m\n\u001b[1;32m    438\u001b[0m \u001b[38;5;28;01mreturn\u001b[39;00m res\n",
      "File \u001b[0;32m~/Local/Nextcloud LAMSADE/Recherche/AMCD/Chimie/MS2DECIDE/Data/Extractor/.direnv/extractor/lib/python3.11/site-packages/py4cytoscape/py4cytoscape_logger.py:133\u001b[0m, in \u001b[0;36mcy_log.<locals>.wrapper_log\u001b[0;34m(*args, **kwargs)\u001b[0m\n\u001b[1;32m    131\u001b[0m     \u001b[38;5;28;01mreturn\u001b[39;00m log_return(func, value)\n\u001b[1;32m    132\u001b[0m \u001b[38;5;28;01mexcept\u001b[39;00m \u001b[38;5;167;01mException\u001b[39;00m \u001b[38;5;28;01mas\u001b[39;00m e:\n\u001b[0;32m--> 133\u001b[0m     \u001b[43mlog_exception\u001b[49m\u001b[43m(\u001b[49m\u001b[43mfunc\u001b[49m\u001b[43m,\u001b[49m\u001b[43m \u001b[49m\u001b[43me\u001b[49m\u001b[43m)\u001b[49m\n\u001b[1;32m    134\u001b[0m \u001b[38;5;28;01mfinally\u001b[39;00m:\n\u001b[1;32m    135\u001b[0m     log_finally()\n",
      "File \u001b[0;32m~/Local/Nextcloud LAMSADE/Recherche/AMCD/Chimie/MS2DECIDE/Data/Extractor/.direnv/extractor/lib/python3.11/site-packages/py4cytoscape/py4cytoscape_logger.py:130\u001b[0m, in \u001b[0;36mcy_log.<locals>.wrapper_log\u001b[0;34m(*args, **kwargs)\u001b[0m\n\u001b[1;32m    128\u001b[0m log_incoming(func, \u001b[38;5;241m*\u001b[39margs, \u001b[38;5;241m*\u001b[39m\u001b[38;5;241m*\u001b[39mkwargs)\n\u001b[1;32m    129\u001b[0m \u001b[38;5;28;01mtry\u001b[39;00m:\n\u001b[0;32m--> 130\u001b[0m     value \u001b[38;5;241m=\u001b[39m \u001b[43mfunc\u001b[49m\u001b[43m(\u001b[49m\u001b[38;5;241;43m*\u001b[39;49m\u001b[43margs\u001b[49m\u001b[43m,\u001b[49m\u001b[43m \u001b[49m\u001b[38;5;241;43m*\u001b[39;49m\u001b[38;5;241;43m*\u001b[39;49m\u001b[43mkwargs\u001b[49m\u001b[43m)\u001b[49m \u001b[38;5;66;03m# Call function being logged\u001b[39;00m\n\u001b[1;32m    131\u001b[0m     \u001b[38;5;28;01mreturn\u001b[39;00m log_return(func, value)\n\u001b[1;32m    132\u001b[0m \u001b[38;5;28;01mexcept\u001b[39;00m \u001b[38;5;167;01mException\u001b[39;00m \u001b[38;5;28;01mas\u001b[39;00m e:\n",
      "File \u001b[0;32m~/Local/Nextcloud LAMSADE/Recherche/AMCD/Chimie/MS2DECIDE/Data/Extractor/.direnv/extractor/lib/python3.11/site-packages/py4cytoscape/commands.py:397\u001b[0m, in \u001b[0;36mcommands_post\u001b[0;34m(cmd, base_url)\u001b[0m\n\u001b[1;32m    395\u001b[0m     \u001b[38;5;28;01mreturn\u001b[39;00m res[\u001b[38;5;124m'\u001b[39m\u001b[38;5;124mdata\u001b[39m\u001b[38;5;124m'\u001b[39m]\n\u001b[1;32m    396\u001b[0m \u001b[38;5;28;01mexcept\u001b[39;00m requests\u001b[38;5;241m.\u001b[39mexceptions\u001b[38;5;241m.\u001b[39mRequestException \u001b[38;5;28;01mas\u001b[39;00m e:\n\u001b[0;32m--> 397\u001b[0m     \u001b[43m_handle_error\u001b[49m\u001b[43m(\u001b[49m\u001b[43me\u001b[49m\u001b[43m)\u001b[49m\n",
      "File \u001b[0;32m~/Local/Nextcloud LAMSADE/Recherche/AMCD/Chimie/MS2DECIDE/Data/Extractor/.direnv/extractor/lib/python3.11/site-packages/py4cytoscape/commands.py:683\u001b[0m, in \u001b[0;36m_handle_error\u001b[0;34m(e, force_cy_error)\u001b[0m\n\u001b[1;32m    681\u001b[0m     \u001b[38;5;28;01melse\u001b[39;00m:\n\u001b[1;32m    682\u001b[0m         show_error(\u001b[38;5;124mf\u001b[39m\u001b[38;5;124m'\u001b[39m\u001b[38;5;124mIn \u001b[39m\u001b[38;5;132;01m{\u001b[39;00mcaller\u001b[38;5;132;01m}\u001b[39;00m\u001b[38;5;124m: \u001b[39m\u001b[38;5;132;01m{\u001b[39;00me\u001b[38;5;132;01m}\u001b[39;00m\u001b[38;5;130;01m\\n\u001b[39;00m\u001b[38;5;132;01m{\u001b[39;00mcontent\u001b[38;5;132;01m}\u001b[39;00m\u001b[38;5;124m'\u001b[39m)\n\u001b[0;32m--> 683\u001b[0m \u001b[38;5;28;01mraise\u001b[39;00m e\n",
      "\u001b[0;31mCyError\u001b[0m: In commands_post(): /home/olivier/Local/Nextcloud LAMSADE/Recherche/AMCD/Chimie/Local/All.pdf (Aucun fichier ou dossier de ce type)"
     ]
    }
   ],
   "source": [
    "# p4c.fit_content()\n",
    "dir = \"../../../Local/\"\n",
    "allsvg = dir+\"All.pdf\"\n",
    "p4c.export_image(filename=allsvg, type=\"PDF\", overwrite_file=True)\n",
    "# display(SVG(filename=allsvg))"
   ]
  },
  {
   "cell_type": "code",
   "execution_count": null,
   "id": "4626b52e",
   "metadata": {},
   "outputs": [
    {
     "data": {
      "text/plain": [
       "'2340'"
      ]
     },
     "execution_count": 16,
     "metadata": {},
     "output_type": "execute_result"
    }
   ],
   "source": [
    "nets = p4c.get_network_list()\n",
    "assert len(nets) == 1\n",
    "net = nets[0]\n",
    "p4c.get_edge_count(net)\n",
    "es = p4c.get_all_edges(net)\n",
    "netx = p4c.create_networkx_from_network()\n",
    "netx\n",
    "import networkx as nx\n",
    "netx = nx.Graph(netx)\n",
    "cons = sorted(nx.connected_components(netx), key=len, reverse=True)\n",
    "[len(c) for c in cons]\n",
    "con = cons[0]\n",
    "len(netx.nodes)\n",
    "len(list(netx.nodes.keys()))\n",
    "list(con)[0]\n"
   ]
  },
  {
   "cell_type": "code",
   "execution_count": null,
   "id": "ed4cdf8a",
   "metadata": {},
   "outputs": [],
   "source": [
    "e = es[0]\n",
    "type(e)\n",
    "cols = p4c.get_table_columns()\n",
    "cols[\"name\"].sort_values()\n",
    "cols.columns"
   ]
  },
  {
   "cell_type": "code",
   "execution_count": null,
   "id": "dc24f393",
   "metadata": {},
   "outputs": [
    {
     "data": {
      "text/plain": [
       "[708619, 708617]"
      ]
     },
     "execution_count": 7,
     "metadata": {},
     "output_type": "execute_result"
    }
   ],
   "source": [
    "p4c.get_node_count(net)\n",
    "ns = p4c.get_all_nodes(net)\n",
    "p4c.clear_selection()\n",
    "n = ns[0]\n",
    "p4c.node_name_to_node_suid(ns[0:2])\n",
    "\n"
   ]
  },
  {
   "cell_type": "code",
   "execution_count": null,
   "id": "8fe7af08",
   "metadata": {},
   "outputs": [
    {
     "data": {
      "text/plain": [
       "1"
      ]
     },
     "execution_count": 8,
     "metadata": {},
     "output_type": "execute_result"
    }
   ],
   "source": [
    "p4c.select_nodes(708619, preserve_current_selection=False)\n",
    "p4c.get_selected_node_count()\n"
   ]
  },
  {
   "cell_type": "code",
   "execution_count": null,
   "id": "76c24b13",
   "metadata": {},
   "outputs": [
    {
     "data": {
      "text/plain": [
       "{'file': '/home/olivier/Local/Nextcloud LAMSADE/Recherche/AMCD/Chimie/MS2DECIDE/Data/Extractor/tmp.pdf'}"
      ]
     },
     "execution_count": 10,
     "metadata": {},
     "output_type": "execute_result"
    }
   ],
   "source": [
    "p4c.fit_content(selected_only=True)\n",
    "p4c.export_image(filename=\"tmp.pdf\", type=\"PDF\", overwrite_file=True)"
   ]
  },
  {
   "cell_type": "code",
   "execution_count": null,
   "id": "5551df1a",
   "metadata": {},
   "outputs": [],
   "source": []
  }
 ],
 "metadata": {
  "kernelspec": {
   "display_name": "extractor",
   "language": "python",
   "name": "python3"
  },
  "language_info": {
   "codemirror_mode": {
    "name": "ipython",
    "version": 3
   },
   "file_extension": ".py",
   "mimetype": "text/x-python",
   "name": "python",
   "nbconvert_exporter": "python",
   "pygments_lexer": "ipython3",
   "version": "3.11.2"
  }
 },
 "nbformat": 4,
 "nbformat_minor": 5
}
